{
  "metadata": {
    "kernelspec": {
      "name": "",
      "display_name": ""
    },
    "language_info": {
      "name": ""
    }
  },
  "nbformat_minor": 4,
  "nbformat": 4,
  "cells": [
    {
      "cell_type": "code",
      "source": "Третий практикум. Работа с файлами формата csv/txt/pickle. Выполнил Сангаджиев Джиргал Леонидович ТРПО24-2",
      "metadata": {
        "trusted": true
      },
      "outputs": [],
      "execution_count": null
    },
    {
      "cell_type": "code",
      "source": "# Функция загрузки таблицы из файла (csv, txt, pickle)\ndef load_table(name_table='File_1_1.csv', mode=input('Введите один из трёх форматов(csv/txt/pickle): ')):\n    \"\"\"\n    Функция загружает данные из файла и преобразует их в словарь.\n    name_table: имя файла\n    mode: формат файла (csv, txt, pickle)\n    \"\"\"\n    dict_table = {}\n    if mode == 'csv':\n        try:\n            with open(name_table, mode='r', encoding='utf-8') as file:\n                reader = csv.reader(file, delimiter=';') # Создаем объект для построчного чтения CSV\n                header = next(reader) # Читаем первую строку, как заголовок\n                data = [row for row in reader] # Эта строка генерирует список, который создает список всех строк из файла\n                for col_index, col_name in enumerate(header): # Цикл, который проходит по заголовкам(header) и их индексам(col_index)\n                    dict_table[col_name] = [row[col_index] for row in data]\n                    # Генератор списка, который извлекает данные из каждого ряда (row) для текущего столбца (col_index)\n        except IOError:\n            return 'Нет доступа к файлу'\n        except UnicodeDecodeError:\n            return 'Файл повреждён'\n    elif mode == 'txt':\n        try:\n            with open(name_table, mode='r', encoding='utf-8') as file: # Открытие файла\n                header = file.readline().strip().split() # file.readline(): Читает первую строку файла.\n                                     #.strip(): Удаляет лишние пробелы и символы переноса строки (\\n) с концов строки.\n                                     #.split(): Разбивает строку на отдельные слова (или значения), используя пробел как разделитель.\n                data = [line.strip().split() for line in file]\n                # Это генератор списка, который обрабатывает каждую строку файла (кроме уже прочитанной первой строки)\n                for col_index, col_name in enumerate(header):\n                    dict_table[col_name] = [row[col_index] for row in data]\n                    # Генератор списка, который извлекает данные из каждого ряда (row) для текущего столбца (col_index)\n        except IOError:\n            return 'Нет доступа к файлу'\n        except UnicodeDecodeError:\n            return 'Файл повреждён'\n        # 1. with open(name_table, mode='r', encoding='utf-8') as file:\n        # with: Это ключевое слово, которое открывает файл и автоматически закрывает его, когда блок кода завершается. Вам не нужно вручную писать file.close(), что удобно и безопасно.\n        # open(): Функция для открытия файла.\n        # name_table: Имя файла, который открывается.\n        # mode='r': Режим открытия. 'r' означает чтение файла.\n        # encoding='utf-8': Указывает, что файл использует кодировку UTF-8 (стандартная кодировка для текстов).\n        # as file: Создаёт объект file, через который вы взаимодействуете с файлом.\n    elif mode == 'pickle':\n        try:\n            with open(name_table, mode='rb') as file:\n            # b: Указывает, что файл бинарный (не текстовый). Pickle файлы хранят данные в бинарном формате, поэтому их нельзя открыть в текстовом режиме.\n                dict_table = pickle.load(file) # pickle.load() восстанавливает объект в его исходной форме.\n        except IOError:\n            return 'Нет доступа к файлу'\n        except UnicodeDecodeError:\n            return 'Файл повреждён'\n    else:\n        return 'Неверный формат файла'\n    return dict_table",
      "metadata": {
        "trusted": true
      },
      "outputs": [],
      "execution_count": null
    },
    {
      "cell_type": "code",
      "source": "# Функция сохранения таблицы в CSV файл\ndef save_table(dict_table):\n    \"\"\"\n    Сохраняет словарь в CSV файл\n    dict_table: словарь, где ключи - заголовки колонок, значения - данные\n    \"\"\"\n    try:\n        with open('File_1.csv', mode='w', encoding='utf-8', newline='') as file: # Открытие файла\n            # newline='': Убирает добавление лишних пустых строк в CSV-файл, mode='w': Режим записи (write). Если файл существует, он будет перезаписан\n            writer = csv.writer(file, delimiter=';') # Создание объекта для записи\n            writer.writerow(dict_table.keys()) # Запись заголовков(ключей)\n            writer.writerows(zip(*dict_table.values())) # Запись данных; writer.writerows(): Записывает сразу несколько строк в CSV-файл\n            # zip(*dict_table.values()): «Склеивает» списки поэлементно, создавая строки таблицы\n    except IOError:\n        return 'Ошибка сохранения файла'\n",
      "metadata": {
        "trusted": true
      },
      "outputs": [],
      "execution_count": null
    },
    {
      "cell_type": "code",
      "source": "# Функция сохранения таблицы в Pickle файл\ndef save_table_to_pickle(dict_table, file_path):\n    \"\"\"\n    Сохраняет словарь в Pickle файл.\n    dict_table: словарь, где ключи - заголовки колонок, значения - данные\n    file_path: путь к файлу для сохранения\n    \"\"\"\n    try:\n        with open(file_path, mode='wb') as file: #mode='wb':\n            # w: Режим записи (write) — файл создаётся или перезаписывается.\n            # b: Бинарный режим — используется для работы с файлами Pickle.\n            pickle.dump(dict_table, file)\n            # pickle.dump(): Функция из модуля pickle, которая сериализует (кодирует) Python-объект и записывает его в файл\n    except IOError:\n        return 'Ошибка сохранения файла'",
      "metadata": {
        "trusted": true
      },
      "outputs": [],
      "execution_count": null
    },
    {
      "cell_type": "code",
      "source": "# Функция сохранения в текстовый файл\ndef save_table_to_text(dict_table, file_path):\n    \"\"\"\n    Сохраняет таблицу в текстовый файл.\n    file_path: путь к файлу\n    \"\"\"\n    try:\n        with open(file_path, mode='w', encoding='utf-8') as file: # as file: Создаёт переменную file для взаимодействия с открытым файлом.\n            file.write(' '.join(dict_table.keys()) + '\\n')\n            # dict_table.keys(): Получает список ключей из словаря (названия колонок).\n            # ' '.join(...): Объединяет элементы списка в строку, используя пробел ' ' в качестве разделителя. Результат: 'Name Age'.\n            # file.write(): Записывает строку в файл.\n            for row in zip(*dict_table.values()):\n                # Функция zip() объединяет элементы из нескольких списков по их индексам.\n                # * распаковывает списки из dict_table.values() в аргументы функции zip.\n                file.write(' '.join(map(str, row)) + '\\n') #\n                # Объединяет элементы строки row в одну строку с пробелами между значениями.\n                # row = ('Alice', 25) -> ' '.join(map(str, row)) = 'Alice 25'\n    except IOError:\n        return 'Ошибка сохранения файла'\n",
      "metadata": {
        "trusted": true
      },
      "outputs": [],
      "execution_count": null
    },
    {
      "cell_type": "code",
      "source": "# Получение типов столбцов\ndef get_column_types(dict_table, by_number=True):\n    \"\"\"\n    Получение словаря вида столбец:тип_значений.\n    by_number: если True, используется индекс столбца, иначе имя.\n    \"\"\"\n    try:\n        result = {}  # Создаём пустой словарь для хранения типов данных столбцов.\n\n        for idx, (key, values) in enumerate(dict_table.items()):\n            # Проходим по всем столбцам таблицы:\n            # - idx: индекс столбца.\n            # - key: имя столбца.\n            # - values: список значений в столбце.\n\n            column_type = type(values[0]) if values else str\n            # Определяем тип первого элемента столбца, если столбец не пустой.\n            # Если столбец пустой (values=[]), используем тип `str` по умолчанию.\n\n            result[idx if by_number else key] = column_type\n            # В словарь `result` сохраняем тип столбца:\n            # - Ключ: индекс столбца (если `by_number=True`) или имя столбца.\n            # - Значение: тип данных столбца.\n\n        return result  # Возвращаем словарь с типами данных для всех столбцов.\n\n    except Exception as e:\n        return f'Ошибка: {e}'  # Возвращаем сообщение об ошибке при возникновении исключений.\n",
      "metadata": {
        "trusted": true
      },
      "outputs": [],
      "execution_count": null
    },
    {
      "cell_type": "code",
      "source": "# Установка типов столбцов\ndef set_column_types(dict_table, types_dict, by_number=True):\n    \"\"\"\n    Установка типов значений для столбцов.\n    types_dict: словарь столбец:тип_значений.\n    by_number: если True, используется индекс столбца, иначе имя.\n    \"\"\"\n    try:\n        keys = list(dict_table.keys())  # Преобразуем ключи словаря (имена столбцов) в список.\n\n        for col, col_type in types_dict.items():\n            # Проходим по всем элементам словаря types_dict:\n            # - col: индекс или имя столбца.\n            # - col_type: функция преобразования типа (например, int, float, str).\n\n            column_key = keys[col] if by_number else col\n            # Определяем ключ столбца:\n            # - Если `by_number=True`, используем индекс для получения ключа из `keys`.\n            # - Если `by_number=False`, ключ передан напрямую.\n\n            dict_table[column_key] = list(map(col_type, dict_table[column_key]))\n            # Преобразуем значения столбца в указанный тип с помощью `map(col_type, ...)`:\n            # - col_type применяется к каждому элементу столбца.\n            # - Результат преобразуется в список и заменяет текущий столбец.\n\n    except Exception as e:\n        return f'Ошибка: {e}'  # Возвращаем сообщение об ошибке, если что-то пошло не так.",
      "metadata": {
        "trusted": true
      },
      "outputs": [],
      "execution_count": null
    },
    {
      "cell_type": "code",
      "source": "# Получение строк по номеру\ndef get_rows_by_number(dict_table, start, stop=None, copy_table=False):\n    \"\"\"\n    Получение строк по номеру (диапазону).\n    start: начальный индекс.\n    stop: конечный индекс.\n    copy_table: если True, возвращает копию таблицы.\n    \"\"\"\n    try:\n        stop = stop if stop is not None else start + 1\n        # Если аргумент `stop` не передан, извлекаем одну строку:\n        # stop = start + 1 делает диапазон [start:stop] равным одной строке.\n\n        result = {key: value[start:stop] for key, value in dict_table.items()}\n        # Для каждого столбца в таблице (key: столбец, value: список значений):\n        # - Извлекаем строки с `start` по `stop` (не включая stop) с помощью среза `value[start:stop]`.\n        # - Формируем новый словарь, где ключи остаются прежними, а значения — обрезанные списки.\n\n        return result.copy() if copy_table else result\n        # Если `copy_table=True`, возвращаем копию словаря.\n        # Иначе возвращаем новый словарь с обрезанными значениями.\n\n    except Exception as e:\n        return f'Ошибка: {e}'  # Возвращаем сообщение об ошибке при возникновении исключений.",
      "metadata": {
        "trusted": true
      },
      "outputs": [],
      "execution_count": null
    },
    {
      "cell_type": "code",
      "source": "# Получение строк по значению индекса\ndef get_rows_by_index(dict_table, *indices, copy_table=False):\n    \"\"\"\n    Получение строк по значениям индекса из первого столбца.\n    indices: значения индексов.\n    copy_table: если True, возвращает копию таблицы.\n    \"\"\"\n    try:\n        first_column = list(dict_table.values())[0]\n        # Извлекаем первый столбец таблицы (значения первого ключа словаря).\n\n        selected_indices = [first_column.index(i) for i in indices]\n        # Проходим по значениям `indices` и ищем их индексы в первом столбце:\n        # - `first_column.index(i)` возвращает индекс первого вхождения значения `i`.\n\n        result = {key: [value[i] for i in selected_indices] for key, value in dict_table.items()}\n        # Формируем новый словарь:\n        # - Для каждого столбца (key: имя столбца, value: значения).\n        # - Извлекаем значения с индексами, полученными выше (`selected_indices`).\n\n        return result.copy() if copy_table else result\n        # Если `copy_table=True`, возвращаем копию результата.\n        # Иначе возвращаем новый словарь с извлечёнными значениями.\n\n    except ValueError:\n        return 'Ошибка: значение не найдено в первом столбце'\n        # Возвращаем сообщение об ошибке, если значение не найдено в первом столбце.\n    except Exception as e:\n        return f'Ошибка: {e}'  # Обрабатываем другие возможные ошибки.\n",
      "metadata": {
        "trusted": true
      },
      "outputs": [],
      "execution_count": null
    },
    {
      "cell_type": "code",
      "source": "# Получение значений столбца\ndef get_values(dict_table, column=0):\n    \"\"\"\n    Получение значений столбца.\n    column: индекс или имя столбца.\n    \"\"\"\n    try:\n        keys = list(dict_table.keys())\n        # Получаем список ключей (имен столбцов) из словаря.\n\n        column_key = keys[column] if isinstance(column, int) else column\n        # Определяем ключ столбца:\n        # - Если column — число, используем индекс для получения имени столбца из keys.\n        # - Если column — строка, используем его как имя столбца напрямую.\n\n        return dict_table[column_key]\n        # Возвращаем список значений для указанного столбца.\n\n    except KeyError:\n        return 'Ошибка: неверное имя столбца'\n        # Возвращаем ошибку, если передано неверное имя столбца.\n    except IndexError:\n        return 'Ошибка: неверный индекс столбца'\n        # Возвращаем ошибку, если индекс столбца выходит за пределы списка.",
      "metadata": {
        "trusted": true
      },
      "outputs": [],
      "execution_count": null
    },
    {
      "cell_type": "code",
      "source": "# Установка значений столбца\ndef set_values(dict_table, values, column=0):\n    \"\"\"\n    Установка значений столбца.\n    values: список значений.\n    column: индекс или имя столбца.\n    \"\"\"\n    try:\n        keys = list(dict_table.keys())\n        # Преобразуем ключи словаря (имена столбцов) в список, чтобы обращаться по индексу.\n\n        column_key = keys[column] if isinstance(column, int) else column\n        # Определяем ключ столбца:\n        # - Если column — число, используем индекс.\n        # - Если column — строка, считаем его именем столбца.\n\n        if len(values) != len(dict_table[column_key]):\n            # Проверяем, совпадает ли длина нового списка значений с длиной текущего столбца.\n            raise ValueError('Длина значений не совпадает с длиной столбца')\n\n        dict_table[column_key] = values\n        # Обновляем значения указанного столбца на переданный список `values`.\n\n    except Exception as e:\n        return f'Ошибка: {e}'\n        # Возвращаем сообщение об ошибке, если что-то пошло не так.",
      "metadata": {
        "trusted": true
      },
      "outputs": [],
      "execution_count": null
    },
    {
      "cell_type": "code",
      "source": "# Получение одного значения из столбца для одной строки\ndef get_value(dict_table, column=0):\n    \"\"\"\n    Получение одного значения из столбца для таблицы с одной строкой.\n    column: индекс или имя столбца.\n    \"\"\"\n    try:\n        keys = list(dict_table.keys())\n        # Преобразуем ключи словаря (имена столбцов) в список, чтобы обращаться по индексу.\n\n        column_key = keys[column] if isinstance(column, int) else column\n        # Определяем ключ столбца:\n        # - Если column — число, используем индекс.\n        # - Если column — строка, считаем его именем столбца.\n\n        if len(dict_table[column_key]) != 1:\n            # Проверяем, что таблица содержит ровно одну строку.\n            raise ValueError('Таблица содержит более одной строки')\n\n        return dict_table[column_key][0]\n        # Возвращаем первое значение из указанного столбца.\n\n    except Exception as e:\n        return f'Ошибка: {e}'\n        # Возвращаем сообщение об ошибке, если что-то пошло не так.\n",
      "metadata": {
        "trusted": true
      },
      "outputs": [],
      "execution_count": null
    },
    {
      "cell_type": "code",
      "source": "",
      "metadata": {
        "trusted": true
      },
      "outputs": [],
      "execution_count": null
    }
  ]
}